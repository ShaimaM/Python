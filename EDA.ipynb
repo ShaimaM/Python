{
  "nbformat": 4,
  "nbformat_minor": 0,
  "metadata": {
    "colab": {
      "name": "Untitled1.ipynb",
      "provenance": [],
      "authorship_tag": "ABX9TyPEhb/I7k72JAx02iAHDwi/",
      "include_colab_link": true
    },
    "kernelspec": {
      "name": "python3",
      "display_name": "Python 3"
    }
  },
  "cells": [
    {
      "cell_type": "markdown",
      "metadata": {
        "id": "view-in-github",
        "colab_type": "text"
      },
      "source": [
        "<a href=\"https://colab.research.google.com/github/ShaimaM/Python/blob/main/EDA.ipynb\" target=\"_parent\"><img src=\"https://colab.research.google.com/assets/colab-badge.svg\" alt=\"Open In Colab\"/></a>"
      ]
    },
    {
      "cell_type": "code",
      "metadata": {
        "colab": {
          "base_uri": "https://localhost:8080/"
        },
        "id": "S707Ivs-0jGt",
        "outputId": "d9d0009f-b8cf-49d9-a7dd-cefeb499de00"
      },
      "source": [
        "dict = {\"country\": [\"Brazil\", \"Russia\", \"India\", \"China\", \"South Africa\"],\r\n",
        "       \"capital\": [\"Brasilia\", \"Moscow\", \"New Dehli\", \"Beijing\", \"Pretoria\"],\r\n",
        "       \"area\": [8.516, 17.10, 3.286, 9.597, 1.221],\r\n",
        "       \"population\": [200.4, 143.5, 1252, 1357, 52.98] }\r\n",
        "\r\n",
        "import pandas as pd\r\n",
        "brics = pd.DataFrame(dict)\r\n",
        "print(brics)"
      ],
      "execution_count": null,
      "outputs": [
        {
          "output_type": "stream",
          "text": [
            "        country    capital    area  population\n",
            "0        Brazil   Brasilia   8.516      200.40\n",
            "1        Russia     Moscow  17.100      143.50\n",
            "2         India  New Dehli   3.286     1252.00\n",
            "3         China    Beijing   9.597     1357.00\n",
            "4  South Africa   Pretoria   1.221       52.98\n"
          ],
          "name": "stdout"
        }
      ]
    },
    {
      "cell_type": "code",
      "metadata": {
        "colab": {
          "base_uri": "https://localhost:8080/"
        },
        "id": "qnXaOZBd0oDd",
        "outputId": "bbcadaa0-ea31-4d62-c87d-d1bba6c6621d"
      },
      "source": [
        "# Set the index for brics\r\n",
        "brics.index = [\"BR\", \"RU\", \"IN\", \"CH\", \"SA\"]\r\n",
        "\r\n",
        "# Print out brics with new index values\r\n",
        "print(brics)"
      ],
      "execution_count": null,
      "outputs": [
        {
          "output_type": "stream",
          "text": [
            "         country    capital    area  population\n",
            "BR        Brazil   Brasilia   8.516      200.40\n",
            "RU        Russia     Moscow  17.100      143.50\n",
            "IN         India  New Dehli   3.286     1252.00\n",
            "CH         China    Beijing   9.597     1357.00\n",
            "SA  South Africa   Pretoria   1.221       52.98\n"
          ],
          "name": "stdout"
        }
      ]
    },
    {
      "cell_type": "code",
      "metadata": {
        "colab": {
          "base_uri": "https://localhost:8080/"
        },
        "id": "SnBBisxe0wjv",
        "outputId": "7e95c18a-e486-436f-f5e5-e19c1e2cb1e2"
      },
      "source": [
        "# Import pandas as pd\r\n",
        "import pandas as pd\r\n",
        "\r\n",
        "# Import the cars.csv data: cars\r\n",
        "cars = pd.read_csv('https://raw.githubusercontent.com/wblakecannon/DataCamp/master/02-intermediate-python-for-data-science/4-loops/cars.csv')\r\n",
        "\r\n",
        "# Print out cars\r\n",
        "print(cars)"
      ],
      "execution_count": null,
      "outputs": [
        {
          "output_type": "stream",
          "text": [
            "  Unnamed: 0  cars_per_cap        country  drives_right\n",
            "0         US           809  United States          True\n",
            "1        AUS           731      Australia         False\n",
            "2        JAP           588          Japan         False\n",
            "3         IN            18          India         False\n",
            "4         RU           200         Russia          True\n",
            "5        MOR            70        Morocco          True\n",
            "6         EG            45          Egypt          True\n"
          ],
          "name": "stdout"
        }
      ]
    },
    {
      "cell_type": "code",
      "metadata": {
        "colab": {
          "base_uri": "https://localhost:8080/"
        },
        "id": "eMuxceME1EoX",
        "outputId": "c3b7ab9a-bf4a-49d2-d463-1a0813726c22"
      },
      "source": [
        "# Import pandas and cars.csv\r\n",
        "import pandas as pd\r\n",
        "cars = pd.read_csv('https://raw.githubusercontent.com/wblakecannon/DataCamp/master/02-intermediate-python-for-data-science/4-loops/cars.csv', index_col = 0)\r\n",
        "\r\n",
        "# Print out country column as Pandas Series\r\n",
        "print(cars['cars_per_cap'])\r\n",
        "\r\n",
        "# Print out country column as Pandas DataFrame\r\n",
        "print(cars[['cars_per_cap']])\r\n",
        "\r\n",
        "# Print out DataFrame with country and drives_right columns\r\n",
        "print(cars[['cars_per_cap', 'country']])"
      ],
      "execution_count": null,
      "outputs": [
        {
          "output_type": "stream",
          "text": [
            "US     809\n",
            "AUS    731\n",
            "JAP    588\n",
            "IN      18\n",
            "RU     200\n",
            "MOR     70\n",
            "EG      45\n",
            "Name: cars_per_cap, dtype: int64\n",
            "     cars_per_cap\n",
            "US            809\n",
            "AUS           731\n",
            "JAP           588\n",
            "IN             18\n",
            "RU            200\n",
            "MOR            70\n",
            "EG             45\n",
            "     cars_per_cap        country\n",
            "US            809  United States\n",
            "AUS           731      Australia\n",
            "JAP           588          Japan\n",
            "IN             18          India\n",
            "RU            200         Russia\n",
            "MOR            70        Morocco\n",
            "EG             45          Egypt\n"
          ],
          "name": "stdout"
        }
      ]
    },
    {
      "cell_type": "code",
      "metadata": {
        "colab": {
          "base_uri": "https://localhost:8080/"
        },
        "id": "1nHaPv6a1KYo",
        "outputId": "22d97b90-0c32-4b2d-ae09-489c5b814319"
      },
      "source": [
        "# Import cars data\r\n",
        "import pandas as pd\r\n",
        "cars = pd.read_csv('https://raw.githubusercontent.com/wblakecannon/DataCamp/master/02-intermediate-python-for-data-science/4-loops/cars.csv', index_col = 0)\r\n",
        "\r\n",
        "# Print out first 4 observations\r\n",
        "print(cars[0:4])\r\n",
        "\r\n",
        "# Print out fifth and sixth observation\r\n",
        "print(cars[4:6])"
      ],
      "execution_count": null,
      "outputs": [
        {
          "output_type": "stream",
          "text": [
            "     cars_per_cap        country  drives_right\n",
            "US            809  United States          True\n",
            "AUS           731      Australia         False\n",
            "JAP           588          Japan         False\n",
            "IN             18          India         False\n",
            "     cars_per_cap  country  drives_right\n",
            "RU            200   Russia          True\n",
            "MOR            70  Morocco          True\n"
          ],
          "name": "stdout"
        }
      ]
    },
    {
      "cell_type": "code",
      "metadata": {
        "colab": {
          "base_uri": "https://localhost:8080/"
        },
        "id": "5y7VknS71Ozc",
        "outputId": "701b5590-838b-4896-978e-ae33a37d1b4e"
      },
      "source": [
        "# Import cars data\r\n",
        "import pandas as pd\r\n",
        "cars = pd.read_csv('https://raw.githubusercontent.com/wblakecannon/DataCamp/master/02-intermediate-python-for-data-science/4-loops/cars.csv', index_col = 0)\r\n",
        "\r\n",
        "# Print out observation for Japan\r\n",
        "print(cars.iloc[2])\r\n",
        "\r\n",
        "# Print out observations for Australia and Egypt\r\n",
        "print(cars.loc[['AUS', 'EG']])"
      ],
      "execution_count": null,
      "outputs": [
        {
          "output_type": "stream",
          "text": [
            "cars_per_cap      588\n",
            "country         Japan\n",
            "drives_right    False\n",
            "Name: JAP, dtype: object\n",
            "     cars_per_cap    country  drives_right\n",
            "AUS           731  Australia         False\n",
            "EG             45      Egypt          True\n"
          ],
          "name": "stdout"
        }
      ]
    }
  ]
}