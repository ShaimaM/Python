{
  "nbformat": 4,
  "nbformat_minor": 0,
  "metadata": {
    "colab": {
      "name": "05_monte_carlo_bday.ipynb",
      "provenance": [],
      "include_colab_link": true
    },
    "kernelspec": {
      "name": "python3",
      "display_name": "Python 3"
    }
  },
  "cells": [
    {
      "cell_type": "markdown",
      "metadata": {
        "id": "view-in-github",
        "colab_type": "text"
      },
      "source": [
        "<a href=\"https://colab.research.google.com/github/ShaimaM/Python/blob/main/weekend_project.ipynb\" target=\"_parent\"><img src=\"https://colab.research.google.com/assets/colab-badge.svg\" alt=\"Open In Colab\"/></a>"
      ]
    },
    {
      "cell_type": "markdown",
      "metadata": {
        "id": "rnj0wuNtHt8E"
      },
      "source": [
        "##Project P5\n",
        "\n",
        "**There is a famous problem in statistics that concerns a room full of people: Same Birthday!**\n",
        "\n",
        "An instructor offers a prize of $20.00 to anyone who thinks that two people in the room have the same birthday.\n",
        "\n",
        "Your assignment is to build a Monte Carlo simulation to tell the instructor how many people need to be in the room to give him/her a better than 50% chance of winning the $20.\n",
        "\n",
        "That is to say how many people need to be in a room in order for the probability of two of them having the same birthday is greater than 50%. Do the same for 95% and 99%."
      ]
    },
    {
      "cell_type": "code",
      "metadata": {
        "id": "yrzJvKsEHhda"
      },
      "source": [
        "import numpy as np\r\n",
        "\r\n",
        "import random"
      ],
      "execution_count": null,
      "outputs": []
    },
    {
      "cell_type": "markdown",
      "metadata": {
        "id": "LcMsr_mUUosP"
      },
      "source": [
        "### Your assignment is to build a Monte Carlo simulation to tell the instructor how many people need to be in the room to give him/her a better than 50% chance of winning the $20."
      ]
    },
    {
      "cell_type": "code",
      "metadata": {
        "id": "KQ04MC6ASo9_",
        "colab": {
          "base_uri": "https://localhost:8080/"
        },
        "outputId": "d9465c60-13fe-4f00-a89c-17a28cbcef0f"
      },
      "source": [
        "def birthday ():\r\n",
        "\r\n",
        "    people =  random.randint(0, 200)\r\n",
        "    trials = 1000\r\n",
        "    precentage = 50\r\n",
        "    matches = 0\r\n",
        "\r\n",
        "    for trial in range(trials):\r\n",
        "        taken = {}\r\n",
        "\r\n",
        "        for person in range(people):\r\n",
        "            day = random.randint(0, 365)\r\n",
        "\r\n",
        "            if day in taken:\r\n",
        "                matches += 1\r\n",
        "                break\r\n",
        "            taken[day] = 1\r\n",
        "        x = float(matches/trials) * 100\r\n",
        "        if x == precentage :\r\n",
        "           print(\"Number of people :\", people,\"\\nPrecentage :\",precentage,\"%\")\r\n",
        "   \r\n",
        "\r\n",
        "print(birthday())   "
      ],
      "execution_count": null,
      "outputs": [
        {
          "output_type": "stream",
          "text": [
            "Number of peple : 142 \n",
            "Precntage : 50 %\n",
            "None\n"
          ],
          "name": "stdout"
        }
      ]
    },
    {
      "cell_type": "markdown",
      "metadata": {
        "id": "hORkxXlqUrnx"
      },
      "source": [
        "### Do the same for 95% and 99%.\r\n",
        "\r\n"
      ]
    },
    {
      "cell_type": "code",
      "metadata": {
        "id": "v4a3X8g9UwYO",
        "colab": {
          "base_uri": "https://localhost:8080/"
        },
        "outputId": "e2371859-e730-431d-8680-fb9457129478"
      },
      "source": [
        "def birthday ():\r\n",
        "\r\n",
        "    people =  random.randint(0, 200)\r\n",
        "    trials = 1000\r\n",
        "    precentage = 95\r\n",
        "    matches = 0\r\n",
        "\r\n",
        "    for trial in range(trials):\r\n",
        "        taken = {}\r\n",
        "\r\n",
        "        for person in range(people):\r\n",
        "            day = random.randint(0, 365)\r\n",
        "\r\n",
        "            if day in taken:\r\n",
        "                matches += 1\r\n",
        "                break\r\n",
        "            taken[day] = 1\r\n",
        "        x = float(matches/trials) * 100\r\n",
        "        if x == precentage :\r\n",
        "           print(\"Number of people :\", people,\"\\nPrecentage :\",precentage,\"%\")\r\n",
        "   \r\n",
        "\r\n",
        "print(birthday())   "
      ],
      "execution_count": null,
      "outputs": [
        {
          "output_type": "stream",
          "text": [
            "Number of peple : 70 \n",
            "Precntage : 95 %\n",
            "None\n"
          ],
          "name": "stdout"
        }
      ]
    },
    {
      "cell_type": "code",
      "metadata": {
        "id": "vU7IKEfzVdq8",
        "colab": {
          "base_uri": "https://localhost:8080/"
        },
        "outputId": "717ef9fc-50d6-4013-f22e-31a97f80f7d7"
      },
      "source": [
        "def birthday ():\r\n",
        "\r\n",
        "    people =  random.randint(0, 200)\r\n",
        "    trials = 1000\r\n",
        "    precentage = 99\r\n",
        "    matches = 0\r\n",
        "\r\n",
        "    for trial in range(trials):\r\n",
        "        taken = {}\r\n",
        "\r\n",
        "        for person in range(people):\r\n",
        "            day = random.randint(0, 365)\r\n",
        "\r\n",
        "            if day in taken:\r\n",
        "                matches += 1\r\n",
        "                break\r\n",
        "            taken[day] = 1\r\n",
        "        x = float(matches/trials) * 100\r\n",
        "        if x == precentage :\r\n",
        "           print(\"Number of people :\", people,\"\\nPrecentage :\",precentage,\"%\")\r\n",
        "   \r\n",
        "\r\n",
        "print(birthday())   "
      ],
      "execution_count": null,
      "outputs": [
        {
          "output_type": "stream",
          "text": [
            "Number of peple : 131 \n",
            "Precntage : 99 %\n",
            "None\n"
          ],
          "name": "stdout"
        }
      ]
    }
  ]
}