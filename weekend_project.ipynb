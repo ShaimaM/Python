{
  "nbformat": 4,
  "nbformat_minor": 0,
  "metadata": {
    "colab": {
      "name": "05_monte_carlo_bday.ipynb",
      "provenance": [],
      "include_colab_link": true
    },
    "kernelspec": {
      "name": "python3",
      "display_name": "Python 3"
    }
  },
  "cells": [
    {
      "cell_type": "markdown",
      "metadata": {
        "id": "view-in-github",
        "colab_type": "text"
      },
      "source": [
        "<a href=\"https://colab.research.google.com/github/ShaimaM/Python/blob/main/weekend_project.ipynb\" target=\"_parent\"><img src=\"https://colab.research.google.com/assets/colab-badge.svg\" alt=\"Open In Colab\"/></a>"
      ]
    },
    {
      "cell_type": "markdown",
      "metadata": {
        "id": "rnj0wuNtHt8E"
      },
      "source": [
        "##Project P5\n",
        "\n",
        "**There is a famous problem in statistics that concerns a room full of people: Same Birthday!**\n",
        "\n",
        "An instructor offers a prize of $20.00 to anyone who thinks that two people in the room have the same birthday.\n",
        "\n",
        "Your assignment is to build a Monte Carlo simulation to tell the instructor how many people need to be in the room to give him/her a better than 50% chance of winning the $20.\n",
        "\n",
        "That is to say how many people need to be in a room in order for the probability of two of them having the same birthday is greater than 50%. Do the same for 95% and 99%."
      ]
    },
    {
      "cell_type": "code",
      "metadata": {
        "id": "yrzJvKsEHhda"
      },
      "source": [
        "import numpy as np\r\n",
        "\r\n",
        "import random"
      ],
      "execution_count": 1,
      "outputs": []
    },
    {
      "cell_type": "markdown",
      "metadata": {
        "id": "LcMsr_mUUosP"
      },
      "source": [
        "### Your assignment is to build a Monte Carlo simulation to tell the instructor how many people need to be in the room to give him/her a better than 50% chance of winning the $20.\r\n",
        "\r\n",
        "\r\n",
        "\r\n",
        "."
      ]
    },
    {
      "cell_type": "code",
      "metadata": {
        "id": "KQ04MC6ASo9_",
        "colab": {
          "base_uri": "https://localhost:8080/",
          "height": 128
        },
        "outputId": "5399aa81-9d7b-4663-fd7a-7ef671d8ca97"
      },
      "source": [
        "def birthday ( precentage ):\r\n",
        "\r\n",
        "    list_1 = [1,100]\r\n",
        "    ppl = float (  // precentage)\r\n",
        "    trials = 1000\r\n",
        "    matches = 0\r\n",
        "\r\n",
        "    for trial in range(trials):\r\n",
        "        taken = {}\r\n",
        "\r\n",
        "        for person in range(ppl):\r\n",
        "            day = random.randint(0, 365)\r\n",
        "\r\n",
        "            if (day in taken):\r\n",
        "                matches += 1\r\n",
        "                break\r\n",
        "            taken[day] = 1\r\n",
        "        p = float(matches/trials) * 100\r\n",
        "        if (p == precentage) :\r\n",
        "           print(\"Number of people :\", ppl,\"\\nPrecentage :\",precentage,\"%\")\r\n",
        "   \r\n",
        "\r\n",
        "print(birthday(50))   "
      ],
      "execution_count": 39,
      "outputs": [
        {
          "output_type": "error",
          "ename": "SyntaxError",
          "evalue": "ignored",
          "traceback": [
            "\u001b[0;36m  File \u001b[0;32m\"<ipython-input-39-ecd4466c0816>\"\u001b[0;36m, line \u001b[0;32m5\u001b[0m\n\u001b[0;31m    ppl = float (list_1[]  // precentage)\u001b[0m\n\u001b[0m                        ^\u001b[0m\n\u001b[0;31mSyntaxError\u001b[0m\u001b[0;31m:\u001b[0m invalid syntax\n"
          ]
        }
      ]
    },
    {
      "cell_type": "markdown",
      "metadata": {
        "id": "hORkxXlqUrnx"
      },
      "source": [
        "### Do the same for 95% and 99%.\r\n",
        "\r\n"
      ]
    },
    {
      "cell_type": "code",
      "metadata": {
        "id": "v4a3X8g9UwYO",
        "colab": {
          "base_uri": "https://localhost:8080/",
          "height": 313
        },
        "outputId": "2dd9367a-5e04-4f75-dfba-cb9de42435b1"
      },
      "source": [
        "def birthday ( precentage ):\r\n",
        "\r\n",
        "    people = 100\r\n",
        "    list_day =  np.array([0 for i in range(0 , 366)])\r\n",
        "    matches = 0\r\n",
        "    number_p = 0\r\n",
        "   # for trial in range(trials):\r\n",
        "       # taken = {}\r\n",
        "  #for i in range(people):\r\n",
        "  \r\n",
        "    for person in range(people):\r\n",
        "        day = random.randint(1, 365)\r\n",
        "\r\n",
        "        if day in list_day:\r\n",
        "            matches += 1\r\n",
        "            break\r\n",
        "            list_day[day] = 1\r\n",
        "            p = float(matches/people) * 100\r\n",
        "        if (p > precentage) :\r\n",
        "           number_p = matches \r\n",
        "           print(\"Number of people :\",number_p ,\"\\nPrecentage :\",p,\"%\")\r\n",
        "   \r\n",
        "\r\n",
        "print(birthday(95))   "
      ],
      "execution_count": 79,
      "outputs": [
        {
          "output_type": "error",
          "ename": "UnboundLocalError",
          "evalue": "ignored",
          "traceback": [
            "\u001b[0;31m---------------------------------------------------------------------------\u001b[0m",
            "\u001b[0;31mUnboundLocalError\u001b[0m                         Traceback (most recent call last)",
            "\u001b[0;32m<ipython-input-79-ea79f6c4e5e8>\u001b[0m in \u001b[0;36m<module>\u001b[0;34m()\u001b[0m\n\u001b[1;32m     22\u001b[0m \u001b[0;34m\u001b[0m\u001b[0m\n\u001b[1;32m     23\u001b[0m \u001b[0;34m\u001b[0m\u001b[0m\n\u001b[0;32m---> 24\u001b[0;31m \u001b[0mprint\u001b[0m\u001b[0;34m(\u001b[0m\u001b[0mbirthday\u001b[0m\u001b[0;34m(\u001b[0m\u001b[0;36m95\u001b[0m\u001b[0;34m)\u001b[0m\u001b[0;34m)\u001b[0m\u001b[0;34m\u001b[0m\u001b[0;34m\u001b[0m\u001b[0m\n\u001b[0m",
            "\u001b[0;32m<ipython-input-79-ea79f6c4e5e8>\u001b[0m in \u001b[0;36mbirthday\u001b[0;34m(precentage)\u001b[0m\n\u001b[1;32m     17\u001b[0m             \u001b[0mlist_day\u001b[0m\u001b[0;34m[\u001b[0m\u001b[0mday\u001b[0m\u001b[0;34m]\u001b[0m \u001b[0;34m=\u001b[0m \u001b[0;36m1\u001b[0m\u001b[0;34m\u001b[0m\u001b[0;34m\u001b[0m\u001b[0m\n\u001b[1;32m     18\u001b[0m             \u001b[0mp\u001b[0m \u001b[0;34m=\u001b[0m \u001b[0mfloat\u001b[0m\u001b[0;34m(\u001b[0m\u001b[0mmatches\u001b[0m\u001b[0;34m/\u001b[0m\u001b[0mpeople\u001b[0m\u001b[0;34m)\u001b[0m \u001b[0;34m*\u001b[0m \u001b[0;36m100\u001b[0m\u001b[0;34m\u001b[0m\u001b[0;34m\u001b[0m\u001b[0m\n\u001b[0;32m---> 19\u001b[0;31m         \u001b[0;32mif\u001b[0m \u001b[0;34m(\u001b[0m\u001b[0mp\u001b[0m \u001b[0;34m>\u001b[0m \u001b[0mprecentage\u001b[0m\u001b[0;34m)\u001b[0m \u001b[0;34m:\u001b[0m\u001b[0;34m\u001b[0m\u001b[0;34m\u001b[0m\u001b[0m\n\u001b[0m\u001b[1;32m     20\u001b[0m            \u001b[0mnumber_p\u001b[0m \u001b[0;34m=\u001b[0m \u001b[0mmatches\u001b[0m\u001b[0;34m\u001b[0m\u001b[0;34m\u001b[0m\u001b[0m\n\u001b[1;32m     21\u001b[0m            \u001b[0mprint\u001b[0m\u001b[0;34m(\u001b[0m\u001b[0;34m\"Number of people :\"\u001b[0m\u001b[0;34m,\u001b[0m\u001b[0mnumber_p\u001b[0m \u001b[0;34m,\u001b[0m\u001b[0;34m\"\\nPrecentage :\"\u001b[0m\u001b[0;34m,\u001b[0m\u001b[0mp\u001b[0m\u001b[0;34m,\u001b[0m\u001b[0;34m\"%\"\u001b[0m\u001b[0;34m)\u001b[0m\u001b[0;34m\u001b[0m\u001b[0;34m\u001b[0m\u001b[0m\n",
            "\u001b[0;31mUnboundLocalError\u001b[0m: local variable 'p' referenced before assignment"
          ]
        }
      ]
    },
    {
      "cell_type": "code",
      "metadata": {
        "id": "vU7IKEfzVdq8",
        "colab": {
          "base_uri": "https://localhost:8080/"
        },
        "outputId": "9f3eea8e-6dd0-46e9-a024-dd0776ac0737"
      },
      "source": [
        "def birthday ( precentage ):\r\n",
        "\r\n",
        "    people = 200\r\n",
        "    trials = 1000\r\n",
        "    #precentage = 50\r\n",
        "    matches = 0\r\n",
        "\r\n",
        "    for trial in range(trials):\r\n",
        "        taken = {}\r\n",
        "\r\n",
        "        for person in range(people):\r\n",
        "            day = random.randint(0, 365)\r\n",
        "\r\n",
        "            if (day in taken):\r\n",
        "                matches += 1\r\n",
        "                break\r\n",
        "            taken[day] = 1\r\n",
        "        p = float(matches/trials) * 100\r\n",
        "        if (p == precentage) :\r\n",
        "           print(\"Number of people :\", people,\"\\nPrecentage :\",precentage,\"%\")\r\n",
        "   \r\n",
        "\r\n",
        "print(birthday(99))   "
      ],
      "execution_count": 14,
      "outputs": [
        {
          "output_type": "stream",
          "text": [
            "Number of people : 200 \n",
            "Precentage : 99 %\n",
            "None\n"
          ],
          "name": "stdout"
        }
      ]
    },
    {
      "cell_type": "code",
      "metadata": {
        "id": "TyRd3T1vPTcg",
        "outputId": "93b1fb86-22b8-4595-b83a-6b2961ba885e",
        "colab": {
          "base_uri": "https://localhost:8080/"
        }
      },
      "source": [
        "# Create funtion to run simulations\r\n",
        "def simulation(percent):\r\n",
        "  people = 5000\r\n",
        "  # set up variable for storing matches\r\n",
        "  matches = 0\r\n",
        "  # make an array to hold the outcome (1 for match, 0 for no match)\r\n",
        "  list_out = np.array([0 for i in range(0 , 366)])\r\n",
        "\r\n",
        "  for p in range(people):\r\n",
        "    # give each person a birthday\r\n",
        "    for person in range(people):\r\n",
        "      # 365 days in the year\r\n",
        "     day = random.randint(1, 365)\r\n",
        "      # if someone else already has this birthday\r\n",
        "     if day in list_out:\r\n",
        "        # we have a match\r\n",
        "       matches += 1\r\n",
        "        # end the trial\r\n",
        "       break\r\n",
        "    # show that this day is taken\r\n",
        "    list_out[day] = 1\r\n",
        "    cal_percentage = (matches/people) * 100\r\n",
        "    if cal_percentage > percent:\r\n",
        "      people = matches\r\n",
        "      pair_result = [people , cal_percentage]\r\n",
        "      break\r\n",
        "\r\n",
        "  print(\"Number Of People: \", people)\r\n",
        "  print(\"The chance of winning %.2f\" % cal_percentage)\r\n",
        "\r\n",
        "\r\n",
        "print(simulation(50))"
      ],
      "execution_count": 107,
      "outputs": [
        {
          "output_type": "stream",
          "text": [
            "Number Of People:  2501\n",
            "The chance of winning 50.02\n",
            "None\n"
          ],
          "name": "stdout"
        }
      ]
    }
  ]
}